{
 "cells": [
  {
   "cell_type": "code",
   "execution_count": 99,
   "metadata": {},
   "outputs": [
    {
     "name": "stdout",
     "output_type": "stream",
     "text": [
      "[173 208 162 ...  77 122  82]\n",
      "AxesSubplot(0.125,0.125;0.352273x0.755)\n",
      "0.24998338207923423\n"
     ]
    },
    {
     "data": {
      "image/png": "[encoded data removed]",
      "text/plain": [
       "<Figure size 432x288 with 2 Axes>"
      ]
     },
     "metadata": {
      "needs_background": "light"
     },
     "output_type": "display_data"
    }
   ],
   "source": [
    "from __future__ import division\n",
    "from numpy import asarray\n",
    "from PIL import Image\n",
    "from scipy import ndimage\n",
    "\n",
    "import numpy as np\n",
    "import scipy.ndimage\n",
    "import matplotlib.pyplot as plt\n",
    "\n",
    "\n",
    "\n",
    "N = 100\n",
    "std = 3.75\n",
    "box = 3\n",
    "\n",
    "\n",
    "def MTF(x, window=True):\n",
    "    \"\"\"\n",
    "    Compute the MTF of an edge scan function.\n",
    "    Parameters\n",
    "    ----------\n",
    "    x : 1D ndarray\n",
    "        Edge scan function.\n",
    "    window : bool\n",
    "        Whether to apply Hanning windowing to the input.\n",
    "    Notes\n",
    "    -----\n",
    "    The line spread function is the derivative of the edge scan function.  The\n",
    "    FFT of the line spread function gives the MTF.\n",
    "    See Also\n",
    "    --------\n",
    "    http://www.cis.rit.edu/research/thesis/bs/2001/perry/thesis.html\n",
    "    \"\"\"\n",
    "    y = np.diff(x)\n",
    "\n",
    "    if window:\n",
    "        y = y * np.hanning(len(y))\n",
    "\n",
    "    y = np.append(y, np.zeros(100))\n",
    "    Y = np.fft.fft(y)\n",
    "\n",
    "    return Y[:len(Y) // 2]\n",
    "\n",
    "\n",
    "# Generate edge\n",
    "x = np.zeros(N)\n",
    "# x[:N // 2] = 1\n",
    "\n",
    "image=Image.open(r\"C:\\Users\\bathu\\Desktop\\LR_beach1_patch.png\")\n",
    "da=asarray(image)\n",
    "x = da.flatten()\n",
    "print (x)\n",
    "\n",
    "# Pass through various filters\n",
    "#rearranges the pixel values/ rearanges the array values\n",
    "y1 = ndimage.gaussian_filter1d(x, 30.75)[5:-5]\n",
    "y2 = np.convolve(x, 1/box * np.ones(box), mode='same')[5:-5] \n",
    "\n",
    "Y1 = MTF(y1)\n",
    "Y2 = MTF(y2)\n",
    "\n",
    "f, (ax0, ax1) = plt.subplots(1, 2)\n",
    "ix = np.arange(len(Y1)) / (2 * len(Y1))\n",
    "\n",
    "ax0.plot(y1)\n",
    "ax0.plot(y2)\n",
    "\n",
    "print(ax0)\n",
    "print (np.mean(ix))\n",
    "\n",
    "# for the second graph\n",
    "\n",
    "ax1.plot(ix, np.abs(Y1), label='Gaussian %.2f' % std)\n",
    "ax1.plot(ix, np.abs(Y2), label='Box %d' % box)\n",
    "\n",
    "ax1.legend()\n",
    "\n",
    "plt.show()"
   ]
  },
  {
   "cell_type": "code",
   "execution_count": null,
   "metadata": {},
   "outputs": [],
   "source": []
  },
  {
   "cell_type": "code",
   "execution_count": null,
   "metadata": {},
   "outputs": [],
   "source": []
  }
 ],
 "metadata": {
  "kernelspec": {
   "display_name": "Python 3",
   "language": "python",
   "name": "python3"
  },
  "language_info": {
   "codemirror_mode": {
    "name": "ipython",
    "version": 3
   },
   "file_extension": ".py",
   "mimetype": "text/x-python",
   "name": "python",
   "nbconvert_exporter": "python",
   "pygments_lexer": "ipython3",
   "version": "3.7.3"
  }
 },
 "nbformat": 4,
 "nbformat_minor": 2
}
